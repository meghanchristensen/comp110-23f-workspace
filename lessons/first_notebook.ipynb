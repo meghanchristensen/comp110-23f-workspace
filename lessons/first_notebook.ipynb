{
 "cells": [
  {
   "cell_type": "markdown",
   "metadata": {},
   "source": [
    "# Intro to Jupyter Notebooks\n",
    "Here I will demonstrate some functionality of jupyter notebooks."
   ]
  },
  {
   "cell_type": "markdown",
   "metadata": {},
   "source": [
    "## Running Python\n",
    "\n",
    "* Create a Python cell by pressing `+code`\n",
    "* Always prints expression on last line"
   ]
  },
  {
   "cell_type": "code",
   "execution_count": 1,
   "metadata": {},
   "outputs": [
    {
     "name": "stdout",
     "output_type": "stream",
     "text": [
      "Meghan\n"
     ]
    },
    {
     "data": {
      "text/plain": [
       "'Meghan is cool.'"
      ]
     },
     "execution_count": 1,
     "metadata": {},
     "output_type": "execute_result"
    }
   ],
   "source": [
    "person: str = \"Meghan\"\n",
    "print(person)\n",
    "person + \" is cool.\""
   ]
  },
  {
   "cell_type": "markdown",
   "metadata": {},
   "source": [
    "## Variable\n",
    "\n",
    "* Variables can be used between cells\n",
    "* `Restart` clears variables/memory\n",
    "* Must run cell wehere variable is defined before running cell that uses variable\n"
   ]
  },
  {
   "cell_type": "code",
   "execution_count": 2,
   "metadata": {},
   "outputs": [
    {
     "name": "stdout",
     "output_type": "stream",
     "text": [
      "Howdy, Meghan!\n"
     ]
    }
   ],
   "source": [
    "print(f\"Howdy, {person}!\")"
   ]
  },
  {
   "cell_type": "markdown",
   "metadata": {},
   "source": [
    "## Making Changes and Re-Opening a Notebook\n",
    "\n",
    "0. (If making changes.) Save!\n",
    "1. Restart kernel.\n",
    "2. Clear All Outputs.\n",
    "3. Run All."
   ]
  },
  {
   "cell_type": "markdown",
   "metadata": {},
   "source": [
    "## Importing functions\n",
    "\n",
    "* You can import functions in jupyter notebooks like you do in other python files!"
   ]
  },
  {
   "cell_type": "code",
   "execution_count": 3,
   "metadata": {},
   "outputs": [
    {
     "ename": "ModuleNotFoundError",
     "evalue": "No module named 'my_function'",
     "output_type": "error",
     "traceback": [
      "\u001b[0;31m---------------------------------------------------------------------------\u001b[0m",
      "\u001b[0;31mModuleNotFoundError\u001b[0m                       Traceback (most recent call last)",
      "\u001b[1;32m/Users/meghanchristensen/Documents/comp110-23f-workspace/lessons/first_notebook.ipynb Cell 8\u001b[0m line \u001b[0;36m1\n\u001b[0;32m----> <a href='vscode-notebook-cell:/Users/meghanchristensen/Documents/comp110-23f-workspace/lessons/first_notebook.ipynb#X22sZmlsZQ%3D%3D?line=0'>1</a>\u001b[0m \u001b[39mfrom\u001b[39;00m \u001b[39mmy_function\u001b[39;00m \u001b[39mimport\u001b[39;00m addition\n\u001b[1;32m      <a href='vscode-notebook-cell:/Users/meghanchristensen/Documents/comp110-23f-workspace/lessons/first_notebook.ipynb#X22sZmlsZQ%3D%3D?line=2'>3</a>\u001b[0m addition(\u001b[39m2\u001b[39m,\u001b[39m3\u001b[39m)\n",
      "\u001b[0;31mModuleNotFoundError\u001b[0m: No module named 'my_function'"
     ]
    }
   ],
   "source": [
    "from my_function import addition\n",
    "\n",
    "addition(2,3)"
   ]
  }
 ],
 "metadata": {
  "kernelspec": {
   "display_name": "Python 3",
   "language": "python",
   "name": "python3"
  },
  "language_info": {
   "codemirror_mode": {
    "name": "ipython",
    "version": 3
   },
   "file_extension": ".py",
   "mimetype": "text/x-python",
   "name": "python",
   "nbconvert_exporter": "python",
   "pygments_lexer": "ipython3",
   "version": "3.11.4"
  }
 },
 "nbformat": 4,
 "nbformat_minor": 2
}
